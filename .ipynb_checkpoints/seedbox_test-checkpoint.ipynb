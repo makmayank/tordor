{
 "cells": [
  {
   "cell_type": "code",
<<<<<<< HEAD
   "execution_count": 2,
=======
   "execution_count": null,
>>>>>>> 7198879e50eb9774d743baac3c158581fda490a2
   "metadata": {
    "colab": {
     "base_uri": "https://localhost:8080/",
     "height": 625
    },
    "colab_type": "code",
    "executionInfo": {
     "elapsed": 173150,
     "status": "ok",
     "timestamp": 1584776603055,
     "user": {
      "displayName": "Mayank Kumar",
      "photoUrl": "",
      "userId": "13260555954086139179"
     },
     "user_tz": -330
    },
    "id": "L0ut3i6myhvp",
    "outputId": "43c6a6ca-84f1-405d-d86f-a1146610379a"
   },
<<<<<<< HEAD
   "outputs": [
    {
     "ename": "ModuleNotFoundError",
     "evalue": "No module named 'libtorrent'",
     "output_type": "error",
     "traceback": [
      "\u001b[0;31m---------------------------------------------------------------------------\u001b[0m",
      "\u001b[0;31mModuleNotFoundError\u001b[0m                       Traceback (most recent call last)",
      "\u001b[0;32m<ipython-input-2-41574aeca6aa>\u001b[0m in \u001b[0;36m<module>\u001b[0;34m\u001b[0m\n\u001b[1;32m      1\u001b[0m \u001b[0;31m#!apt-get -qq install -y python3-libtorrent libtorrent-rasterbar-dev #for utilities used inside\u001b[0m\u001b[0;34m\u001b[0m\u001b[0;34m\u001b[0m\u001b[0;34m\u001b[0m\u001b[0m\n\u001b[1;32m      2\u001b[0m \u001b[0;31m#!apt-get -qq install -y zip\u001b[0m\u001b[0;34m\u001b[0m\u001b[0;34m\u001b[0m\u001b[0;34m\u001b[0m\u001b[0m\n\u001b[0;32m----> 3\u001b[0;31m \u001b[0;32mimport\u001b[0m \u001b[0mlibtorrent\u001b[0m \u001b[0;32mas\u001b[0m \u001b[0mlt\u001b[0m\u001b[0;34m\u001b[0m\u001b[0;34m\u001b[0m\u001b[0m\n\u001b[0m\u001b[1;32m      4\u001b[0m \u001b[0;32mfrom\u001b[0m \u001b[0mgoogle\u001b[0m\u001b[0;34m.\u001b[0m\u001b[0mcolab\u001b[0m \u001b[0;32mimport\u001b[0m \u001b[0mdrive\u001b[0m\u001b[0;34m\u001b[0m\u001b[0;34m\u001b[0m\u001b[0m\n\u001b[1;32m      5\u001b[0m \u001b[0;32mfrom\u001b[0m \u001b[0mgoogle\u001b[0m\u001b[0;34m.\u001b[0m\u001b[0mcolab\u001b[0m \u001b[0;32mimport\u001b[0m \u001b[0mfiles\u001b[0m\u001b[0;34m\u001b[0m\u001b[0;34m\u001b[0m\u001b[0m\n",
      "\u001b[0;31mModuleNotFoundError\u001b[0m: No module named 'libtorrent'"
     ]
    }
   ],
=======
   "outputs": [],
>>>>>>> 7198879e50eb9774d743baac3c158581fda490a2
   "source": [
    "!apt-get -qq install -y python3-libtorrent libtorrent-rasterbar-dev #for utilities used inside\n",
    "!apt-get -qq install -y zip\n",
    "import tensorflow as tf\n",
    "import libtorrent as lt\n",
    "from google.colab import drive\n",
    "from google.colab import files\n",
    "import time\n",
    "drive.mount('/content/drive')  #mounts your Drive \n",
    "start_time = time.time()\n",
    "#torrenting \n",
    "ses= lt.session()   #get session handle\n",
    "ses.listen_on(6896,6884)\n",
    "\n",
    "tparams = {\"save_path\":\".\",\n",
    "          \"storage_mode\":lt.storage_mode_t(2),\n",
    "          \"paused\":False,\n",
    "          \"auto_managed\":True,\n",
    "          \"duplicate_is_error\":False} #Torrent physical Parameters\n",
<<<<<<< HEAD
    "link= \"magnet:?xt=urn:btih:A39C33C1BD3592033CCE451FC2DAF76FCF887873&dn=Money+Heist+%282020%29+English+UNTOUCHED+S04+Complete+720p+NF+WEBRip+DD-5.1+ESub+x264+-+Shadow&tr=udp%3A%2F%2Ftracker.coppersurfer.tk%3A6969%2Fannounce&tr=udp%3A%2F%2Ftracker.opentrackr.org%3A1337%2Fannounce&tr=udp%3A%2F%2Fretracker.lanta-net.ru%3A2710%2Fannounce&tr=udp%3A%2F%2Ftracker.cyberia.is%3A6969%2Fannounce&tr=udp%3A%2F%2Ftracker.leechers-paradise.org%3A6969%2Fannounce&tr=udp%3A%2F%2Ftracker.tiny-vps.com%3A6969%2Fannounce&tr=udp%3A%2F%2F9.rarbg.com%3A2710%2Fannounce&tr=udp%3A%2F%2F9.rarbg.me%3A2790%2Fannounce&tr=udp%3A%2F%2Ftracker.pirateparty.gr%3A6969%2Fannounce&tr=http%3A%2F%2Ftracker.files.fm%3A6969%2Fannounce&tr=udp%3A%2F%2Fp4p.arenabg.com%3A1337%2Fannounce&tr=udp%3A%2F%2Ftracker.skynetcloud.site%3A6969%2Fannounce&tr=udp%3A%2F%2Ftracker.zer0day.to%3A1337%2Fannounce&tr=udp%3A%2F%2Ftracker.leechers-paradise.org%3A6969%2Fannounce&tr=udp%3A%2F%2Fcoppersurfer.tk%3A6969%2Fannounce\"\n",
    "\n",
=======
    "link=\"magnet:?xt=urn:btih:688ECA8D7EA9337367BBAE898DEDCA2FDD6DC27A&dn=Underwater.2020.720p.HDRip.800MB.x264-GalaxyRG+%E2%AD%90&tr=udp%3A%2F%2Ftracker.coppersurfer.tk%3A6969%2Fannounce&tr=udp%3A%2F%2Ftracker.leechers-paradise.org%3A6969%2Fannounce&tr=udp%3A%2F%2Fopen.stealth.si%3A80%2Fannounce&tr=udp%3A%2F%2Fexodus.desync.com%3A6969&tr=udp%3A%2F%2Fp4p.arenabg.com%3A1337%2Fannounce&tr=udp%3A%2F%2Fexplodie.org%3A6969%2Fannounce&tr=udp%3A%2F%2Ftracker.opentrackr.org%3A1337%2Fannounce&tr=udp%3A%2F%2Ftracker.tiny-vps.com%3A6969%2Fannounce&tr=udp%3A%2F%2Fopen.demonii.si%3A1337%2Fannounce&tr=udp%3A%2F%2Ftracker.torrent.eu.org%3A451%2Fannounce&tr=udp%3A%2F%2Ftracker.pirateparty.gr%3A6969%2Fannounce&tr=udp%3A%2F%2Fipv4.tracker.harry.lu%3A80%2Fannounce&tr=udp%3A%2F%2Ftracker.cyberia.is%3A6969%2Fannounce&tr=udp%3A%2F%2F9.rarbg.to%3A2710%2Fannounce&tr=udp%3A%2F%2Ftracker.zer0day.to%3A1337%2Fannounce&tr=udp%3A%2F%2Ftracker.leechers-paradise.org%3A6969%2Fannounce&tr=udp%3A%2F%2Fcoppersurfer.tk%3A6969%2Fannounce\"\n",
>>>>>>> 7198879e50eb9774d743baac3c158581fda490a2
    "tor_handle = lt.add_magnet_uri(ses, link, tparams) #initializing torrent with parameters\n",
    "ses.start_dht()\n",
    "print(\"Fetching Metadata...\")    #torrent activity starts\n",
    "while(not tor_handle.has_metadata()):\n",
    "    time.sleep(1)\n",
    "torName  = tor_handle.get_torrent_info()\n",
    "\n",
    "print(\"Starting the Torrent...\")\n",
    "while(tor_handle.status().state != lt.torrent_status.seeding ):   #download progress \n",
    "    s = tor_handle.status()\n",
    "    tor_status = ['queued','checking','fetching metadata',\\\n",
    "                  'downloading','finished', 'seeding', 'allocating']\n",
    "    print(\"Progress:\",s.progress*100, \\\n",
    "          \"Down_speed:\",s.download_rate/1000 ,\"UP_Speed\", s.upload_rate/1000,\"Peers:\", s.num_peers,\"Status:\",tor_status[s.state])\n",
    "    time.sleep(5)\n",
    "#/torrenting\n",
    "print(\"---Torrent Downloaded in  %s seconds ---\" % (time.time() - start_time))\n",
    "print(\"Downloading Done beero !\")\n",
    "\n",
<<<<<<< HEAD
    "print(\"Loading into your drive\")\n",
    "pathstr= (torName.files().file_path(0)).split(\"/\")\n",
    "sostr=pathstr[0]\n",
    "print(sostr)\n",
    "!rsync -ar \"$sostr\" \"/content/drive/My Drive/\"\n",
=======
    "print(\"Loading into your drive\") #transferring to Drive\n",
    "pathstr= (torName.files().file_path(0)).split(\"/\")\n",
    "sostr=pathstr[0]\n",
    "print(sostr)\n",
    "!rsync -ar $sostr \"/content/drive/My Drive/\"\n",
>>>>>>> 7198879e50eb9774d743baac3c158581fda490a2
    "#!mv $sostr \"/content/drive/My Drive/\""
   ]
  },
  {
   "cell_type": "code",
   "execution_count": null,
   "metadata": {},
   "outputs": [],
   "source": [
    " torName"
   ]
  }
 ],
 "metadata": {
  "colab": {
   "authorship_tag": "ABX9TyMyScU3FigTD7tDOUyMtRFD",
   "name": "seedbox_test",
   "provenance": []
  },
  "kernelspec": {
   "display_name": "Python 3",
   "language": "python",
   "name": "python3"
  },
  "language_info": {
   "codemirror_mode": {
    "name": "ipython",
    "version": 3
   },
   "file_extension": ".py",
   "mimetype": "text/x-python",
   "name": "python",
   "nbconvert_exporter": "python",
   "pygments_lexer": "ipython3",
   "version": "3.7.6"
  }
 },
 "nbformat": 4,
 "nbformat_minor": 1
}
