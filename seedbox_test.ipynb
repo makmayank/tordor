{
 "cells": [
  {
   "cell_type": "code",
   "execution_count": null,
   "metadata": {
    "colab": {
     "base_uri": "https://localhost:8080/",
     "height": 625
    },
    "colab_type": "code",
    "executionInfo": {
     "elapsed": 173150,
     "status": "ok",
     "timestamp": 1584776603055,
     "user": {
      "displayName": "Mayank Kumar",
      "photoUrl": "",
      "userId": "13260555954086139179"
     },
     "user_tz": -330
    },
    "id": "L0ut3i6myhvp",
    "outputId": "43c6a6ca-84f1-405d-d86f-a1146610379a"
   },
   "outputs": [],
   "source": [
    "!apt-get -qq install -y python3-libtorrent libtorrent-rasterbar-dev #for utilities used inside\n",
    "!apt-get -qq install -y zip\n",
    "import tensorflow as tf\n",
    "import libtorrent as lt\n",
    "from google.colab import drive\n",
    "from google.colab import files\n",
    "import time\n",
    "drive.mount('/content/drive')  #mounts your Drive \n",
    "start_time = time.time()\n",
    "#torrenting \n",
    "ses= lt.session()   #get session handle\n",
    "ses.listen_on(6896,6884)\n",
    "\n",
    "tparams = {\"save_path\":\".\",\n",
    "          \"storage_mode\":lt.storage_mode_t(2),\n",
    "          \"paused\":False,\n",
    "          \"auto_managed\":True,\n",
    "          \"duplicate_is_error\":False} #Torrent physical Parameters\n",
    "link=\"magnet:?xt=urn:btih:688ECA8D7EA9337367BBAE898DEDCA2FDD6DC27A&dn=Underwater.2020.720p.HDRip.800MB.x264-GalaxyRG+%E2%AD%90&tr=udp%3A%2F%2Ftracker.coppersurfer.tk%3A6969%2Fannounce&tr=udp%3A%2F%2Ftracker.leechers-paradise.org%3A6969%2Fannounce&tr=udp%3A%2F%2Fopen.stealth.si%3A80%2Fannounce&tr=udp%3A%2F%2Fexodus.desync.com%3A6969&tr=udp%3A%2F%2Fp4p.arenabg.com%3A1337%2Fannounce&tr=udp%3A%2F%2Fexplodie.org%3A6969%2Fannounce&tr=udp%3A%2F%2Ftracker.opentrackr.org%3A1337%2Fannounce&tr=udp%3A%2F%2Ftracker.tiny-vps.com%3A6969%2Fannounce&tr=udp%3A%2F%2Fopen.demonii.si%3A1337%2Fannounce&tr=udp%3A%2F%2Ftracker.torrent.eu.org%3A451%2Fannounce&tr=udp%3A%2F%2Ftracker.pirateparty.gr%3A6969%2Fannounce&tr=udp%3A%2F%2Fipv4.tracker.harry.lu%3A80%2Fannounce&tr=udp%3A%2F%2Ftracker.cyberia.is%3A6969%2Fannounce&tr=udp%3A%2F%2F9.rarbg.to%3A2710%2Fannounce&tr=udp%3A%2F%2Ftracker.zer0day.to%3A1337%2Fannounce&tr=udp%3A%2F%2Ftracker.leechers-paradise.org%3A6969%2Fannounce&tr=udp%3A%2F%2Fcoppersurfer.tk%3A6969%2Fannounce\"\n",
    "tor_handle = lt.add_magnet_uri(ses, link, tparams) #initializing torrent with parameters\n",
    "ses.start_dht()\n",
    "print(\"Fetching Metadata...\")    #torrent activity starts\n",
    "while(not tor_handle.has_metadata()):\n",
    "    time.sleep(1)\n",
    "torName  = tor_handle.get_torrent_info()\n",
    "\n",
    "print(\"Starting the Torrent...\")\n",
    "while(tor_handle.status().state != lt.torrent_status.seeding ):   #download progress \n",
    "    s = tor_handle.status()\n",
    "    tor_status = ['queued','checking','fetching metadata',\\\n",
    "                  'downloading','finished', 'seeding', 'allocating']\n",
    "    print(\"Progress:\",s.progress*100, \\\n",
    "          \"Down_speed:\",s.download_rate/1000 ,\"UP_Speed\", s.upload_rate/1000,\"Peers:\", s.num_peers,\"Status:\",tor_status[s.state])\n",
    "    time.sleep(5)\n",
    "#/torrenting\n",
    "print(\"---Torrent Downloaded in  %s seconds ---\" % (time.time() - start_time))\n",
    "print(\"Downloading Done beero !\")\n",
    "\n",
    "print(\"Loading into your drive\") #transferring to Drive\n",
    "pathstr= (torName.files().file_path(0)).split(\"/\")\n",
    "sostr=pathstr[0]\n",
    "print(sostr)\n",
    "!rsync -ar $sostr \"/content/drive/My Drive/\"\n",
    "#!mv $sostr \"/content/drive/My Drive/\""
   ]
  },
  {
   "cell_type": "code",
   "execution_count": null,
   "metadata": {},
   "outputs": [],
   "source": [
    " torName"
   ]
  }
 ],
 "metadata": {
  "colab": {
   "authorship_tag": "ABX9TyMyScU3FigTD7tDOUyMtRFD",
   "name": "seedbox_test",
   "provenance": []
  },
  "kernelspec": {
   "display_name": "Python 3",
   "language": "python",
   "name": "python3"
  },
  "language_info": {
   "codemirror_mode": {
    "name": "ipython",
    "version": 3
   },
   "file_extension": ".py",
   "mimetype": "text/x-python",
   "name": "python",
   "nbconvert_exporter": "python",
   "pygments_lexer": "ipython3",
   "version": "3.7.6"
  }
 },
 "nbformat": 4,
 "nbformat_minor": 1
}
