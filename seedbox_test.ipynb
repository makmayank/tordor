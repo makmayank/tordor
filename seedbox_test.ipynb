{
 "cells": [
  {
   "cell_type": "code",
   "execution_count": 2,
   "metadata": {
    "colab": {
     "base_uri": "https://localhost:8080/",
     "height": 625
    },
    "colab_type": "code",
    "executionInfo": {
     "elapsed": 173150,
     "status": "ok",
     "timestamp": 1584776603055,
     "user": {
      "displayName": "Mayank Kumar",
      "photoUrl": "",
      "userId": "13260555954086139179"
     },
     "user_tz": -330
    },
    "id": "L0ut3i6myhvp",
    "outputId": "43c6a6ca-84f1-405d-d86f-a1146610379a"
   },
   "outputs": [
    {
     "ename": "ModuleNotFoundError",
     "evalue": "No module named 'libtorrent'",
     "output_type": "error",
     "traceback": [
      "\u001b[0;31m---------------------------------------------------------------------------\u001b[0m",
      "\u001b[0;31mModuleNotFoundError\u001b[0m                       Traceback (most recent call last)",
      "\u001b[0;32m<ipython-input-2-41574aeca6aa>\u001b[0m in \u001b[0;36m<module>\u001b[0;34m\u001b[0m\n\u001b[1;32m      1\u001b[0m \u001b[0;31m#!apt-get -qq install -y python3-libtorrent libtorrent-rasterbar-dev #for utilities used inside\u001b[0m\u001b[0;34m\u001b[0m\u001b[0;34m\u001b[0m\u001b[0;34m\u001b[0m\u001b[0m\n\u001b[1;32m      2\u001b[0m \u001b[0;31m#!apt-get -qq install -y zip\u001b[0m\u001b[0;34m\u001b[0m\u001b[0;34m\u001b[0m\u001b[0;34m\u001b[0m\u001b[0m\n\u001b[0;32m----> 3\u001b[0;31m \u001b[0;32mimport\u001b[0m \u001b[0mlibtorrent\u001b[0m \u001b[0;32mas\u001b[0m \u001b[0mlt\u001b[0m\u001b[0;34m\u001b[0m\u001b[0;34m\u001b[0m\u001b[0m\n\u001b[0m\u001b[1;32m      4\u001b[0m \u001b[0;32mfrom\u001b[0m \u001b[0mgoogle\u001b[0m\u001b[0;34m.\u001b[0m\u001b[0mcolab\u001b[0m \u001b[0;32mimport\u001b[0m \u001b[0mdrive\u001b[0m\u001b[0;34m\u001b[0m\u001b[0;34m\u001b[0m\u001b[0m\n\u001b[1;32m      5\u001b[0m \u001b[0;32mfrom\u001b[0m \u001b[0mgoogle\u001b[0m\u001b[0;34m.\u001b[0m\u001b[0mcolab\u001b[0m \u001b[0;32mimport\u001b[0m \u001b[0mfiles\u001b[0m\u001b[0;34m\u001b[0m\u001b[0;34m\u001b[0m\u001b[0m\n",
      "\u001b[0;31mModuleNotFoundError\u001b[0m: No module named 'libtorrent'"
     ]
    }
   ],
   "source": [
    "!apt-get -qq install -y python3-libtorrent libtorrent-rasterbar-dev #for utilities used inside\n",
    "!apt-get -qq install -y zip\n",
    "\n",
    "import tensorflow as tf\n",
    "import requests\n",
    "import libtorrent as lt\n",
    "from google.colab import drive\n",
    "import re\n",
    "from google.colab import files\n",
    "import time\n",
    "\n",
    "\n",
    "def getFilename_fromCd(cd):\n",
    "    \"\"\"\n",
    "    Get filename from content-disposition\n",
    "    \"\"\"\n",
    "    if not cd:\n",
    "        return None\n",
    "    fname = re.findall('filename=(.+)', cd)\n",
    "    if len(fname) == 0:\n",
    "        return None\n",
    "    return fname[0]\n",
    "\n",
    "drive.mount('/content/drive')  #mounts your Drive \n",
    "\n",
    "start_time = time.time()\n",
    "# set flagsto  true if you want to download from torrent and/or url (file server)\n",
    "tor_flag = True \n",
    "url_flag = True\n",
    "\n",
    "url_link = \"https://dl5.filehippo.com/f12/758/cc8e3a7a1a520c08e649c07f150e7ff708/uTorrent.exe?Expires=1590691228&Signature=fa7538cb965ad9d9cc03fea06cfbd4836f9de4a0&url=https://filehippo.com/download_utorrent/&Filename=uTorrent.exe\"\n",
    "tor_link = \"magnet:?xt=urn:btih:98D60FCF4989155D3F9E88BF53EBA7EA55C09F86&dn=%5BHR%5D+Plunderer+20+%5B1080p+HEVC%5D+HR-GZ&tr=udp%3A%2F%2Ftracker.leechers-paradise.org%3A6969%2Fannounce&tr=udp%3A%2F%2Ftracker.coppersurfer.tk%3A6969%2Fannounce&tr=udp%3A%2F%2Fbt1.archive.org%3A6969%2Fannounce&tr=udp%3A%2F%2Fbt2.archive.org%3A6969%2Fannounce&tr=udp%3A%2F%2Ftracker.tiny-vps.com%3A6969%2Fannounce&tr=udp%3A%2F%2Fexodus.desync.com%3A6969%2Fannounce&tr=udp%3A%2F%2Ftracker.cyberia.is%3A6969%2Fannounce&tr=udp%3A%2F%2Ftracker.yoshi210.com%3A6969%2Fannounce&tr=udp%3A%2F%2Fopen.nyap2p.com%3A6969%2Fannounce&tr=udp%3A%2F%2Ftracker.opentrackr.org%3A1337%2Fannounce&tr=udp%3A%2F%2Ftracker.internetwarriors.net%3A1337%2Fannounce&tr=udp%3A%2F%2Fopen.demonii.si%3A1337%2Fannounce&tr=udp%3A%2F%2Fp4p.arenabg.com%3A1337%2Fannounce&tr=udp%3A%2F%2F9.rarbg.to%3A2710%2Fannounce&tr=udp%3A%2F%2Ftracker.zer0day.to%3A1337%2Fannounce&tr=udp%3A%2F%2Ftracker.leechers-paradise.org%3A6969%2Fannounce&tr=udp%3A%2F%2Fcoppersurfer.tk%3A6969%2Fannounce\"   #torrent magnet link\n",
    "\n"
   ]
  },
  {
   "cell_type": "code",
   "execution_count": null,
   "metadata": {},
   "outputs": [],
   "source": [
    "urlName =\"\"\n",
    "torName =\"\"\n",
    "if url_flag:\n",
    "    r = requests.get(url_link, allow_redirects=True)\n",
    "    filename = getFilename_fromCd(r.headers.get('content-disposition'))\n",
    "    open(filename, 'wb').write(r.content)\n",
    "    # !wget $url_link\n",
    "    urlName = filename\n",
    "\n",
    "if tor_flag:\n",
    "    #torrenting \n",
    "    ses= lt.session()   #get session handle\n",
    "    ses.listen_on(6896,6884)\n",
    "\n",
    "    tparams = {\"save_path\":\".\",\n",
    "            \"storage_mode\":lt.storage_mode_t(2),\n",
    "            \"paused\":False,\n",
    "            \"auto_managed\":True,\n",
    "            \"duplicate_is_error\":False} #Torrent physical Parameters\n",
    "\n",
    "\n",
    "    tor_handle = lt.add_magnet_uri(ses, tor_link, tparams) #initializing torrent with parameters\n",
    "    ses.start_dht()\n",
    "    print(\"Fetching Metadata...\")    #torrent activity starts\n",
    "    while(not tor_handle.has_metadata()):\n",
    "        time.sleep(1)\n",
    "    torName  = tor_handle.get_torrent_info()\n",
    "\n",
    "    print(\"Starting the Torrent...\")\n",
    "    while(tor_handle.status().state != lt.torrent_status.seeding ):   #download progress \n",
    "        s = tor_handle.status()\n",
    "        tor_status = ['queued','checking','fetching metadata',\\\n",
    "                    'downloading','finished', 'seeding', 'allocating']\n",
    "        print(\"Progress:\",s.progress*100, \\\n",
    "            \"Down_speed:\",s.download_rate/1000 ,\"UP_Speed\", s.upload_rate/1000,\"Peers:\", s.num_peers,\"Status:\",tor_status[s.state])\n",
    "        time.sleep(5)\n",
    "    #/torrenting\n",
    "    print(\"---Torrent Downloaded in  %s seconds ---\" % (time.time() - start_time))\n",
    "    print(\"Downloading Done beero !\")\n",
    "\n",
    "    print(\"Loading into your drive\")\n",
    "    pathstr= (torName.files().file_path(0)).split(\"/\")\n",
    "    torName=pathstr[0]\n",
    "#!mv $sostr \"/content/drive/My Drive/\""
   ]
  },
  {
   "cell_type": "code",
   "execution_count": null,
   "metadata": {},
   "outputs": [],
   "source": [
    " print(\"Loading into your drive\")\n",
    " print(torName)\n",
    " print(urlName)\n",
    "if tor_flag :\n",
    "    !rsync -ar \"$torName\" \"/content/drive/My Drive/\"\n",
    "if url_flag :\n",
    "    !rsync -ar \"$urlName\" \"/content/drive/My Drive/\"\n",
    "\n",
    "print(\"Please check your drive for content !!!\")\n",
    "\n",
    "\n",
    "#!mv $sostr \"/content/drive/My Drive/\""
   ]
  }
 ],
 "metadata": {
  "colab": {
   "authorship_tag": "ABX9TyMyScU3FigTD7tDOUyMtRFD",
   "name": "seedbox_test",
   "provenance": []
  },
  "kernelspec": {
   "display_name": "Python 3",
   "language": "python",
   "name": "python3"
  },
  "language_info": {
   "codemirror_mode": {
    "name": "ipython",
    "version": 3
   },
   "file_extension": ".py",
   "mimetype": "text/x-python",
   "name": "python",
   "nbconvert_exporter": "python",
   "pygments_lexer": "ipython3",
   "version": "3.7.6"
  }
 },
 "nbformat": 4,
 "nbformat_minor": 1
}
